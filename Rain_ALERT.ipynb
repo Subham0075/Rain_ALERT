{
  "nbformat": 4,
  "nbformat_minor": 0,
  "metadata": {
    "colab": {
      "provenance": [],
      "authorship_tag": "ABX9TyPUnWZ6LH+mW23qaoJQz4J6",
      "include_colab_link": true
    },
    "kernelspec": {
      "name": "python3",
      "display_name": "Python 3"
    },
    "language_info": {
      "name": "python"
    }
  },
  "cells": [
    {
      "cell_type": "markdown",
      "metadata": {
        "id": "view-in-github",
        "colab_type": "text"
      },
      "source": [
        "<a href=\"https://colab.research.google.com/github/Subham0075/Rain_ALERT/blob/main/Rain_ALERT.ipynb\" target=\"_parent\"><img src=\"https://colab.research.google.com/assets/colab-badge.svg\" alt=\"Open In Colab\"/></a>"
      ]
    },
    {
      "cell_type": "code",
      "execution_count": null,
      "metadata": {
        "id": "e6jADyyh9yOa"
      },
      "outputs": [],
      "source": [
        "import requests\n",
        "import smtplib\n",
        "\n",
        "MY_EMAIL = \"subhampattnaik82@gmail.com\"\n",
        "MY_PASSWORD = \"PUT YOUR OWN PASSWORD HERE\"\n",
        "OWM_Endpoint = \"https://api.openweathermap.org/data/2.5/forecast\"\n",
        "\n",
        "# account_sid = \"*******************************\"\n",
        "# auth_token = \"********************************\"\n",
        "\n",
        "\n",
        "weather_params = {\n",
        "    \"lat\": 20.513041,\n",
        "    \"lon\": 84.428543,\n",
        "    \"appid\": api_key,\n",
        "    \"cnt\": 4,\n",
        "}\n",
        "\n",
        "response = requests.get(OWM_Endpoint, params=weather_params)\n",
        "response.raise_for_status()\n",
        "weather_data = response.json()\n",
        "# print(weather_data[\"list\"][0][\"weather\"][0][\"id\"])\n",
        "will_rain = False\n",
        "for hour_data in weather_data[\"list\"]:\n",
        "    condition_code = hour_data[\"weather\"][0][\"id\"]\n",
        "    if int(condition_code) < 700:\n",
        "        will_rain = True\n",
        "if will_rain:\n",
        "    with smtplib.SMTP(\"smtp.gmail.com\", 587) as connection:\n",
        "        connection.starttls()\n",
        "        connection.login(MY_EMAIL, MY_PASSWORD)\n",
        "        connection.sendmail(\n",
        "            from_addr=MY_EMAIL,\n",
        "            to_addrs=MY_EMAIL,\n",
        "            msg=\"Subject: RAINY DAY\\n\\nTake an umbrella with you.\"\n",
        "        )"
      ]
    }
  ]
}